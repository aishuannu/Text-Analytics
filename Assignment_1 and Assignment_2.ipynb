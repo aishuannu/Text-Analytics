{
 "cells": [
  {
   "cell_type": "markdown",
   "metadata": {},
   "source": [
    "# Importing necessary packages"
   ]
  },
  {
   "cell_type": "code",
   "execution_count": 1,
   "metadata": {},
   "outputs": [],
   "source": [
    "import pandas as pd\n",
    "import nltk\n",
    "import csv\n",
    "from nltk import sent_tokenize\n",
    "from nltk.tokenize import word_tokenize\n",
    "import matplotlib.pyplot as plt\n",
    "from matplotlib import pylab\n",
    "import unicodedata\n",
    "#from fastai.text import *\n",
    "#nltk.download()\n",
    "import string\n",
    "import math\n",
    "import json"
   ]
  },
  {
   "cell_type": "code",
   "execution_count": 2,
   "metadata": {},
   "outputs": [],
   "source": [
    "import numpy as np\n",
    "import pandas as pd\n",
    "from sklearn.model_selection import train_test_split\n",
    "import pickle\n",
    "import sentencepiece as spm\n",
    "import re\n",
    "import pdb"
   ]
  },
  {
   "cell_type": "code",
   "execution_count": 3,
   "metadata": {},
   "outputs": [],
   "source": [
    "from IPython.display import clear_output"
   ]
  },
  {
   "cell_type": "code",
   "execution_count": 4,
   "metadata": {},
   "outputs": [],
   "source": [
    "from matplotlib import pylab"
   ]
  },
  {
   "cell_type": "code",
   "execution_count": 5,
   "metadata": {},
   "outputs": [],
   "source": [
    "import h5py\n",
    "from nltk.util import ngrams"
   ]
  },
  {
   "cell_type": "code",
   "execution_count": 113,
   "metadata": {},
   "outputs": [],
   "source": [
    "from sklearn.metrics.pairwise import cosine_similarity"
   ]
  },
  {
   "cell_type": "markdown",
   "metadata": {},
   "source": [
    "# Getting the corpus"
   ]
  },
  {
   "cell_type": "code",
   "execution_count": null,
   "metadata": {},
   "outputs": [],
   "source": [
    "# from wiki_dump_reader import Cleaner, iterate\n",
    "\n",
    "# #https://github.com/CyberZHG/wiki-dump-reader\n",
    "# #pip install wiki-dump-reader\n",
    "# #Code adapted from https://github.com/CyberZHG/wiki-dump-reader\n",
    "# def write_corpus():\n",
    "#     corpus_file = 'CorpusFileName.txt'\n",
    "#     page_count = 0\n",
    "#     cleaner = Cleaner()\n",
    "#     with open(corpus_file, 'w', encoding='utf-8') as output:\n",
    "#         for title, text in iterate('tawiki-latest-pages-articles.xml'):\n",
    "#             text = cleaner.clean_text(text)\n",
    "#             cleaned_text, links = cleaner.build_links(text)\n",
    "#             output.write(title + '\\n' + cleaned_text + '\\n')\n",
    "#             page_count += 1\n",
    "#             if page_count % 100 == 0:\n",
    "#                 print('Pages dumped = ', page_count)\n",
    "\n",
    "#     output.close()\n",
    "# write_corpus()"
   ]
  },
  {
   "cell_type": "code",
   "execution_count": null,
   "metadata": {
    "scrolled": true
   },
   "outputs": [],
   "source": [
    "# def write_corpus():\n",
    "#     corpus_file = 'Corpus_1000.txt'\n",
    "#     page_count = 0\n",
    "#     cleaner = Cleaner()\n",
    "#     with open(corpus_file, 'w', encoding='utf-8') as output:\n",
    "#         for title, text in iterate('tawiki-latest-pages-articles.xml'):\n",
    "#             text = cleaner.clean_text(text)\n",
    "#             cleaned_text, links = cleaner.build_links(text)\n",
    "#             output.write(title + '\\n' + cleaned_text + '\\n')\n",
    "#             page_count += 1\n",
    "#             if page_count == 1000:\n",
    "#                 print('Pages dumped = ', page_count)\n",
    "#                 break\n",
    "\n",
    "#     output.close()\n",
    "# write_corpus()"
   ]
  },
  {
   "cell_type": "code",
   "execution_count": null,
   "metadata": {},
   "outputs": [],
   "source": [
    "# def write_corpus():\n",
    "#     corpus_file = 'Corpus_100.txt'\n",
    "#     page_count = 0\n",
    "#     cleaner = Cleaner()\n",
    "#     with open(corpus_file, 'w', encoding='utf-8') as output:\n",
    "#         for title, text in iterate('tawiki-latest-pages-articles.xml'):\n",
    "#             text = cleaner.clean_text(text)\n",
    "#             cleaned_text, links = cleaner.build_links(text)\n",
    "#             output.write(title + '\\n' + cleaned_text + '\\n')\n",
    "#             page_count += 1\n",
    "#             if page_count == 100:\n",
    "#                 print('Pages dumped = ', page_count)\n",
    "#                 break\n",
    "\n",
    "#     output.close()\n",
    "# write_corpus()"
   ]
  },
  {
   "cell_type": "markdown",
   "metadata": {},
   "source": [
    "# Preprocessing"
   ]
  },
  {
   "cell_type": "code",
   "execution_count": 6,
   "metadata": {},
   "outputs": [],
   "source": [
    "file = open('CorpusFileName.txt', 'rt')\n",
    "text = file.read()\n",
    "file.close()"
   ]
  },
  {
   "cell_type": "code",
   "execution_count": 7,
   "metadata": {},
   "outputs": [],
   "source": [
    "tokens = word_tokenize(text)\n",
    "#print(tokens[:100])"
   ]
  },
  {
   "cell_type": "code",
   "execution_count": 9,
   "metadata": {},
   "outputs": [],
   "source": [
    "# Remving punctuations\n",
    "punc = list(string.punctuation)\n",
    "rmpunc = [w for w in tokens if w not in punc]"
   ]
  },
  {
   "cell_type": "code",
   "execution_count": 11,
   "metadata": {},
   "outputs": [],
   "source": [
    "temp = rmpunc.copy()"
   ]
  },
  {
   "cell_type": "code",
   "execution_count": 12,
   "metadata": {},
   "outputs": [],
   "source": [
    "sw = open('TamilStopWords.txt', 'rt')\n",
    "stpwrds = sw.read()\n",
    "sw.close()"
   ]
  },
  {
   "cell_type": "code",
   "execution_count": 13,
   "metadata": {},
   "outputs": [],
   "source": [
    "stop_words = word_tokenize(stpwrds)\n",
    "#print(stop_words[:100])"
   ]
  },
  {
   "cell_type": "code",
   "execution_count": 14,
   "metadata": {},
   "outputs": [],
   "source": [
    "stop_words.append('')"
   ]
  },
  {
   "cell_type": "code",
   "execution_count": 15,
   "metadata": {},
   "outputs": [
    {
     "data": {
      "text/plain": [
       "126"
      ]
     },
     "execution_count": 15,
     "metadata": {},
     "output_type": "execute_result"
    }
   ],
   "source": [
    "len(stop_words)"
   ]
  },
  {
   "cell_type": "code",
   "execution_count": 16,
   "metadata": {},
   "outputs": [],
   "source": [
    "# Removing stop words:\n",
    "for w in stop_words:\n",
    "    temp = list(filter((w).__ne__, temp))"
   ]
  },
  {
   "cell_type": "code",
   "execution_count": 17,
   "metadata": {},
   "outputs": [],
   "source": [
    "vocab = set(temp)"
   ]
  },
  {
   "cell_type": "code",
   "execution_count": 18,
   "metadata": {},
   "outputs": [],
   "source": [
    "stpw = set(stop_words)"
   ]
  },
  {
   "cell_type": "code",
   "execution_count": 19,
   "metadata": {},
   "outputs": [],
   "source": [
    "tokn = vocab - stpw"
   ]
  },
  {
   "cell_type": "code",
   "execution_count": 20,
   "metadata": {},
   "outputs": [],
   "source": [
    "words = [word for word in temp if not word.isalpha() and not word.isdigit()]\n",
    "#print(words[:100])"
   ]
  },
  {
   "cell_type": "code",
   "execution_count": 22,
   "metadata": {},
   "outputs": [],
   "source": [
    "def is_tamil(word):\n",
    "    try:\n",
    "        lang = unicodedata.name(word.strip()[0])\n",
    "        if 'TAMIL' in lang:\n",
    "            return True\n",
    "        else:\n",
    "            return False\n",
    "    except:\n",
    "        return False"
   ]
  },
  {
   "cell_type": "code",
   "execution_count": 23,
   "metadata": {},
   "outputs": [],
   "source": [
    "# Removing other language words\n",
    "tamil_words = [word for word in words if (is_tamil(word))] "
   ]
  },
  {
   "cell_type": "markdown",
   "metadata": {},
   "source": [
    "# Zip's Law"
   ]
  },
  {
   "cell_type": "code",
   "execution_count": 24,
   "metadata": {},
   "outputs": [],
   "source": [
    "import re\n",
    "from operator import itemgetter    \n",
    " \n",
    "frequency = {}\n",
    "#open_file = open('d2016.bin', 'r')\n",
    "#file_to_string = open_file.read()\n",
    "#words = re.findall(r'(\\b[A-Za-z][a-z]{2,9}\\b)', file_to_string)\n",
    " \n",
    "for word in tamil_words:\n",
    "    count = frequency.get(word,0)\n",
    "    frequency[word] = count + 1\n",
    "     \n",
    "# for key, value in reversed(sorted(frequency.items(), key = itemgetter(1))):\n",
    "#     print(key, value)"
   ]
  },
  {
   "cell_type": "code",
   "execution_count": 25,
   "metadata": {},
   "outputs": [],
   "source": [
    "sortd = sorted(frequency.items(), key = itemgetter(1), reverse = True)"
   ]
  },
  {
   "cell_type": "code",
   "execution_count": 26,
   "metadata": {},
   "outputs": [],
   "source": [
    "sortd_lis = []\n",
    "i = 1\n",
    "for key, value in sortd:\n",
    "    sortd_lis.append((key, value, i))\n",
    "    i += 1"
   ]
  },
  {
   "cell_type": "code",
   "execution_count": 27,
   "metadata": {},
   "outputs": [
    {
     "data": {
      "text/plain": [
       "('ஜெர்மனி', 155968, 5)"
      ]
     },
     "execution_count": 27,
     "metadata": {},
     "output_type": "execute_result"
    }
   ],
   "source": [
    "sortd_lis[4]"
   ]
  },
  {
   "cell_type": "code",
   "execution_count": 29,
   "metadata": {},
   "outputs": [],
   "source": [
    "def H_approx(n):\n",
    "    \"\"\"\n",
    "    Returns an approximate value of n-th harmonic number.\n",
    "    http://en.wikipedia.org/wiki/Harmonic_number\n",
    "    \"\"\"\n",
    "    # Euler-Mascheroni constant\n",
    "    gamma = 0.57721566490153286060651209008240243104215933593992\n",
    "    return gamma + math.log(n) + 0.5/n - 1./(12*n**2) + 1./(120*n**4)"
   ]
  },
  {
   "cell_type": "code",
   "execution_count": 30,
   "metadata": {},
   "outputs": [],
   "source": [
    "T = len(tamil_words)\n",
    "n = len(sortd_lis)"
   ]
  },
  {
   "cell_type": "code",
   "execution_count": 31,
   "metadata": {},
   "outputs": [],
   "source": [
    "k = T/H_approx(n)"
   ]
  },
  {
   "cell_type": "code",
   "execution_count": 32,
   "metadata": {},
   "outputs": [],
   "source": [
    "ef = [k/i for i in range(1, n+1) ]"
   ]
  },
  {
   "cell_type": "code",
   "execution_count": 34,
   "metadata": {},
   "outputs": [
    {
     "data": {
      "image/png": "[encoded data removed]",
      "text/plain": [
       "<Figure size 1440x720 with 1 Axes>"
      ]
     },
     "metadata": {
      "needs_background": "light"
     },
     "output_type": "display_data"
    }
   ],
   "source": [
    "plt.figure(figsize=(20,10))\n",
    "n = len(sortd_lis)\n",
    "ranks = range(1, n+1) \n",
    "freqs = [freq for (word, freq, rank) in sortd_lis] # y-axis: the frequencies\n",
    "#pylab.loglog(ranks, freqs)#this plots frequency, not relative frequency\n",
    "plt.plot([math.log(c) for c in ranks], [math.log(c) for c in freqs], 'ro')\n",
    "plt.plot([math.log(c) for c in ranks], [math.log(c) for c in ef], 'bo')\n",
    "#pylab.loglog(ranks, ef, 'r')\n",
    "plt.title('Figure 1')\n",
    "pylab.xlabel('log(rank)')\n",
    "pylab.ylabel('log(freq)')\n",
    "#pylab.legend(loc='lower left')\n",
    "pylab.show()"
   ]
  },
  {
   "cell_type": "code",
   "execution_count": 37,
   "metadata": {},
   "outputs": [
    {
     "data": {
      "text/plain": [
       "2467758.6677210676"
      ]
     },
     "execution_count": 37,
     "metadata": {},
     "output_type": "execute_result"
    }
   ],
   "source": [
    "k"
   ]
  },
  {
   "cell_type": "markdown",
   "metadata": {},
   "source": [
    "By looking at the Figure 1 of Zipf's law graph, the middle frequency range of the vocabulary is,"
   ]
  },
  {
   "cell_type": "code",
   "execution_count": 43,
   "metadata": {},
   "outputs": [],
   "source": [
    "middle_freqency_range = []\n",
    "zips_words = []\n",
    "for (word, freq, rank) in sortd_lis:\n",
    "    if freq >= 20 and freq <= 59874:\n",
    "        middle_freqency_range.append(word)\n",
    "        #print(freq*rank)\n",
    "        if ((freq*rank) >= k_round and (freq*rank) <= (k_round + 1000)) or ((freq*rank) <= k_round and (freq*rank) >= (k_round - 1000)):\n",
    "            zips_words.append((word, freq))"
   ]
  },
  {
   "cell_type": "code",
   "execution_count": 44,
   "metadata": {},
   "outputs": [
    {
     "data": {
      "text/plain": [
       "81430"
      ]
     },
     "execution_count": 44,
     "metadata": {},
     "output_type": "execute_result"
    }
   ],
   "source": [
    "len(middle_freqency_range)"
   ]
  },
  {
   "cell_type": "code",
   "execution_count": 48,
   "metadata": {
    "collapsed": true
   },
   "outputs": [
    {
     "data": {
      "text/plain": [
       "[('நிகழ்வாக', 216),\n",
       " ('பாராளுமன்றத்திற்கு', 216),\n",
       " ('கிரக', 215),\n",
       " ('பொதுமக்களுக்கு', 215),\n",
       " ('மொழிகளைப்', 215),\n",
       " ('கதாபாத்திரங்கள்', 215),\n",
       " ('உரையாசிரியர்கள்', 215),\n",
       " ('தீயில்', 215),\n",
       " ('காலத்தைக்', 215),\n",
       " ('நிதியம்', 215),\n",
       " ('நபருக்கு', 215),\n",
       " ('மீண்டு', 214),\n",
       " ('திடீரென்று', 214),\n",
       " ('அம்மோனியம்', 214),\n",
       " ('அவர்களைத்', 214),\n",
       " ('விழாக்களில்', 214),\n",
       " ('தேனீ', 214),\n",
       " ('யாக', 214),\n",
       " ('யாகம்', 214),\n",
       " ('செல்லவும்', 214),\n",
       " ('தொடு', 214),\n",
       " ('அல்லி', 213),\n",
       " ('பலவித', 213),\n",
       " ('போதனை', 213),\n",
       " ('மகாகவி', 213),\n",
       " ('விளாத்திகுளம்', 213),\n",
       " ('எங்க', 213),\n",
       " ('தப்பிச்', 213),\n",
       " ('இயக்குநராகவும்', 213),\n",
       " ('சத்தியமங்கலம்', 213),\n",
       " ('அமீன்', 212),\n",
       " ('கவுண்டமணி', 212),\n",
       " ('நுட்பமான', 212),\n",
       " ('போனார்', 212),\n",
       " ('சந்திப்பில்', 212),\n",
       " ('புதர்', 212),\n",
       " ('குடியாத்தம்', 212),\n",
       " ('நாட்', 212),\n",
       " ('கொதிநிலை', 212),\n",
       " ('வீரபத்திரர்', 212),\n",
       " ('பரிந்துரைக்கப்படுகிறது', 211),\n",
       " ('யுவர்', 211),\n",
       " ('பொன்னியம்மன்', 211)]"
      ]
     },
     "execution_count": 48,
     "metadata": {},
     "output_type": "execute_result"
    }
   ],
   "source": [
    "zips_words"
   ]
  },
  {
   "cell_type": "code",
   "execution_count": 45,
   "metadata": {},
   "outputs": [],
   "source": [
    "w = []\n",
    "for word, freq in zips_words:\n",
    "    w.append(word)"
   ]
  },
  {
   "cell_type": "code",
   "execution_count": 46,
   "metadata": {},
   "outputs": [
    {
     "data": {
      "text/plain": [
       "43"
      ]
     },
     "execution_count": 46,
     "metadata": {},
     "output_type": "execute_result"
    }
   ],
   "source": [
    "len(w)"
   ]
  },
  {
   "cell_type": "code",
   "execution_count": 48,
   "metadata": {},
   "outputs": [],
   "source": [
    "noun = ['கல்லூரி', 'கடல்', 'அரசியல்', 'பெயர்', 'மக்கள்', 'நபர்கள்', 'நூல்கள்', 'பாடல்', 'தொழில்கள்', 'அளவு']"
   ]
  },
  {
   "cell_type": "code",
   "execution_count": 49,
   "metadata": {},
   "outputs": [],
   "source": [
    "verb = ['போதனை', 'செல்லவும்', 'போனார்', 'படி', 'தயாரிக்க', 'தொடு', 'மாற்ற', 'முடியும்', 'வெளிப்படுத்துகிறது', 'செய்யப்பட்ட']"
   ]
  },
  {
   "cell_type": "code",
   "execution_count": 50,
   "metadata": {},
   "outputs": [],
   "source": [
    "adjective =['மதிப்புள்ள', 'மிகப்பெரிய', 'தாழ்ந்த', 'முன்னணி', 'ஆரோக்கிய', 'மிகச்சிறிய', 'வெப்ப', 'பழைய', 'முதன்மைத்', 'நிலையான']"
   ]
  },
  {
   "cell_type": "code",
   "execution_count": 51,
   "metadata": {},
   "outputs": [],
   "source": [
    "similar_verb = ['வாசி', 'செய்ய', 'சாத்தியம்', 'போ', 'ஸ்பரிசம்']"
   ]
  },
  {
   "cell_type": "code",
   "execution_count": 52,
   "metadata": {},
   "outputs": [],
   "source": [
    "similar_noun = ['ஆழி', 'புத்தகம்', 'மனிதர்கள்', 'பல்கலைக்கழகம்', 'நாமம்']"
   ]
  },
  {
   "cell_type": "code",
   "execution_count": 53,
   "metadata": {},
   "outputs": [],
   "source": [
    "similar_adjective = ['நலமான', 'சூடு', 'நிரந்தரம்', 'மரியாதை', 'தொன்மை']"
   ]
  },
  {
   "cell_type": "code",
   "execution_count": 54,
   "metadata": {},
   "outputs": [],
   "source": [
    "verb_score = np.array([['போதனை', 6, 7, 4, 1, 1], ['செல்லவும்',1, 2, 1, 10, 1], ['போனார்', 1, 2, 1, 10, 1], ['படி', 10, 7, 1, 1, 1], ['தயாரிக்க', 1, 10, 2, 1, 1], ['தொடு', 1, 1, 1, 1, 10], ['மாற்ற', 1, 7, 5, 2, 1], ['முடியும்', 1, 7, 10, 1, 1], ['வெளிப்படுத்துகிறது', 1, 1, 1, 1, 1], ['செய்யப்பட்ட', 1, 9.5, 8, 1, 1]])\n"
   ]
  },
  {
   "cell_type": "code",
   "execution_count": 55,
   "metadata": {},
   "outputs": [],
   "source": [
    "df_verb = pd.DataFrame(verb_score, columns = ['Target_words'] + similar_verb)"
   ]
  },
  {
   "cell_type": "code",
   "execution_count": 56,
   "metadata": {
    "scrolled": true
   },
   "outputs": [
    {
     "data": {
      "text/html": [
       "<div>\n",
       "<style scoped>\n",
       "    .dataframe tbody tr th:only-of-type {\n",
       "        vertical-align: middle;\n",
       "    }\n",
       "\n",
       "    .dataframe tbody tr th {\n",
       "        vertical-align: top;\n",
       "    }\n",
       "\n",
       "    .dataframe thead th {\n",
       "        text-align: right;\n",
       "    }\n",
       "</style>\n",
       "<table border=\"1\" class=\"dataframe\">\n",
       "  <thead>\n",
       "    <tr style=\"text-align: right;\">\n",
       "      <th></th>\n",
       "      <th>Target_words</th>\n",
       "      <th>வாசி</th>\n",
       "      <th>செய்ய</th>\n",
       "      <th>சாத்தியம்</th>\n",
       "      <th>போ</th>\n",
       "      <th>ஸ்பரிசம்</th>\n",
       "    </tr>\n",
       "  </thead>\n",
       "  <tbody>\n",
       "    <tr>\n",
       "      <th>0</th>\n",
       "      <td>போதனை</td>\n",
       "      <td>6</td>\n",
       "      <td>7</td>\n",
       "      <td>4</td>\n",
       "      <td>1</td>\n",
       "      <td>1</td>\n",
       "    </tr>\n",
       "    <tr>\n",
       "      <th>1</th>\n",
       "      <td>செல்லவும்</td>\n",
       "      <td>1</td>\n",
       "      <td>2</td>\n",
       "      <td>1</td>\n",
       "      <td>10</td>\n",
       "      <td>1</td>\n",
       "    </tr>\n",
       "    <tr>\n",
       "      <th>2</th>\n",
       "      <td>போனார்</td>\n",
       "      <td>1</td>\n",
       "      <td>2</td>\n",
       "      <td>1</td>\n",
       "      <td>10</td>\n",
       "      <td>1</td>\n",
       "    </tr>\n",
       "    <tr>\n",
       "      <th>3</th>\n",
       "      <td>படி</td>\n",
       "      <td>10</td>\n",
       "      <td>7</td>\n",
       "      <td>1</td>\n",
       "      <td>1</td>\n",
       "      <td>1</td>\n",
       "    </tr>\n",
       "    <tr>\n",
       "      <th>4</th>\n",
       "      <td>தயாரிக்க</td>\n",
       "      <td>1</td>\n",
       "      <td>10</td>\n",
       "      <td>2</td>\n",
       "      <td>1</td>\n",
       "      <td>1</td>\n",
       "    </tr>\n",
       "    <tr>\n",
       "      <th>5</th>\n",
       "      <td>தொடு</td>\n",
       "      <td>1</td>\n",
       "      <td>1</td>\n",
       "      <td>1</td>\n",
       "      <td>1</td>\n",
       "      <td>10</td>\n",
       "    </tr>\n",
       "    <tr>\n",
       "      <th>6</th>\n",
       "      <td>மாற்ற</td>\n",
       "      <td>1</td>\n",
       "      <td>7</td>\n",
       "      <td>5</td>\n",
       "      <td>2</td>\n",
       "      <td>1</td>\n",
       "    </tr>\n",
       "    <tr>\n",
       "      <th>7</th>\n",
       "      <td>முடியும்</td>\n",
       "      <td>1</td>\n",
       "      <td>7</td>\n",
       "      <td>10</td>\n",
       "      <td>1</td>\n",
       "      <td>1</td>\n",
       "    </tr>\n",
       "    <tr>\n",
       "      <th>8</th>\n",
       "      <td>வெளிப்படுத்துகிறது</td>\n",
       "      <td>1</td>\n",
       "      <td>1</td>\n",
       "      <td>1</td>\n",
       "      <td>1</td>\n",
       "      <td>1</td>\n",
       "    </tr>\n",
       "    <tr>\n",
       "      <th>9</th>\n",
       "      <td>செய்யப்பட்ட</td>\n",
       "      <td>1</td>\n",
       "      <td>9.5</td>\n",
       "      <td>8</td>\n",
       "      <td>1</td>\n",
       "      <td>1</td>\n",
       "    </tr>\n",
       "  </tbody>\n",
       "</table>\n",
       "</div>"
      ],
      "text/plain": [
       "         Target_words வாசி செய்ய சாத்தியம்  போ ஸ்பரிசம்\n",
       "0               போதனை    6     7         4   1        1\n",
       "1           செல்லவும்    1     2         1  10        1\n",
       "2              போனார்    1     2         1  10        1\n",
       "3                 படி   10     7         1   1        1\n",
       "4            தயாரிக்க    1    10         2   1        1\n",
       "5                தொடு    1     1         1   1       10\n",
       "6               மாற்ற    1     7         5   2        1\n",
       "7            முடியும்    1     7        10   1        1\n",
       "8  வெளிப்படுத்துகிறது    1     1         1   1        1\n",
       "9         செய்யப்பட்ட    1   9.5         8   1        1"
      ]
     },
     "execution_count": 56,
     "metadata": {},
     "output_type": "execute_result"
    }
   ],
   "source": [
    "df_verb"
   ]
  },
  {
   "cell_type": "code",
   "execution_count": 57,
   "metadata": {},
   "outputs": [],
   "source": [
    "noun_score = np.array([['கல்லூரி', 1, 7, 8, 9.5, 5], ['கடல்', 10, 5, 4, 1, 1], ['அரசியல்', 1, 6, 8, 7, 1], ['பெயர்', '3', '1', '7.5', '1', '10'], ['மக்கள்', 3, 4, 10, 7, 7.5], ['நபர்கள்', 3, 4, 10, 7, 7.5], ['நூல்கள்', 3, 10, 8, 8.5, 2], ['பாடல்', 2, 5, 6, 4, 3.5], ['தொழில்கள்', 2, 6, 7, 7, 3.5], ['அளவு', 6, 5, 7, 6, 1]])\n"
   ]
  },
  {
   "cell_type": "code",
   "execution_count": 58,
   "metadata": {},
   "outputs": [],
   "source": [
    "df_noun = pd.DataFrame(noun_score, columns = ['Target_words'] + similar_noun)"
   ]
  },
  {
   "cell_type": "code",
   "execution_count": 59,
   "metadata": {},
   "outputs": [
    {
     "data": {
      "text/html": [
       "<div>\n",
       "<style scoped>\n",
       "    .dataframe tbody tr th:only-of-type {\n",
       "        vertical-align: middle;\n",
       "    }\n",
       "\n",
       "    .dataframe tbody tr th {\n",
       "        vertical-align: top;\n",
       "    }\n",
       "\n",
       "    .dataframe thead th {\n",
       "        text-align: right;\n",
       "    }\n",
       "</style>\n",
       "<table border=\"1\" class=\"dataframe\">\n",
       "  <thead>\n",
       "    <tr style=\"text-align: right;\">\n",
       "      <th></th>\n",
       "      <th>Target_words</th>\n",
       "      <th>ஆழி</th>\n",
       "      <th>புத்தகம்</th>\n",
       "      <th>மனிதர்கள்</th>\n",
       "      <th>பல்கலைக்கழகம்</th>\n",
       "      <th>நாமம்</th>\n",
       "    </tr>\n",
       "  </thead>\n",
       "  <tbody>\n",
       "    <tr>\n",
       "      <th>0</th>\n",
       "      <td>கல்லூரி</td>\n",
       "      <td>1</td>\n",
       "      <td>7</td>\n",
       "      <td>8</td>\n",
       "      <td>9.5</td>\n",
       "      <td>5</td>\n",
       "    </tr>\n",
       "    <tr>\n",
       "      <th>1</th>\n",
       "      <td>கடல்</td>\n",
       "      <td>10</td>\n",
       "      <td>5</td>\n",
       "      <td>4</td>\n",
       "      <td>1</td>\n",
       "      <td>1</td>\n",
       "    </tr>\n",
       "    <tr>\n",
       "      <th>2</th>\n",
       "      <td>அரசியல்</td>\n",
       "      <td>1</td>\n",
       "      <td>6</td>\n",
       "      <td>8</td>\n",
       "      <td>7</td>\n",
       "      <td>1</td>\n",
       "    </tr>\n",
       "    <tr>\n",
       "      <th>3</th>\n",
       "      <td>பெயர்</td>\n",
       "      <td>3</td>\n",
       "      <td>1</td>\n",
       "      <td>7.5</td>\n",
       "      <td>1</td>\n",
       "      <td>10</td>\n",
       "    </tr>\n",
       "    <tr>\n",
       "      <th>4</th>\n",
       "      <td>மக்கள்</td>\n",
       "      <td>3</td>\n",
       "      <td>4</td>\n",
       "      <td>10</td>\n",
       "      <td>7</td>\n",
       "      <td>7.5</td>\n",
       "    </tr>\n",
       "    <tr>\n",
       "      <th>5</th>\n",
       "      <td>நபர்கள்</td>\n",
       "      <td>3</td>\n",
       "      <td>4</td>\n",
       "      <td>10</td>\n",
       "      <td>7</td>\n",
       "      <td>7.5</td>\n",
       "    </tr>\n",
       "    <tr>\n",
       "      <th>6</th>\n",
       "      <td>நூல்கள்</td>\n",
       "      <td>3</td>\n",
       "      <td>10</td>\n",
       "      <td>8</td>\n",
       "      <td>8.5</td>\n",
       "      <td>2</td>\n",
       "    </tr>\n",
       "    <tr>\n",
       "      <th>7</th>\n",
       "      <td>பாடல்</td>\n",
       "      <td>2</td>\n",
       "      <td>5</td>\n",
       "      <td>6</td>\n",
       "      <td>4</td>\n",
       "      <td>3.5</td>\n",
       "    </tr>\n",
       "    <tr>\n",
       "      <th>8</th>\n",
       "      <td>தொழில்கள்</td>\n",
       "      <td>2</td>\n",
       "      <td>6</td>\n",
       "      <td>7</td>\n",
       "      <td>7</td>\n",
       "      <td>3.5</td>\n",
       "    </tr>\n",
       "    <tr>\n",
       "      <th>9</th>\n",
       "      <td>அளவு</td>\n",
       "      <td>6</td>\n",
       "      <td>5</td>\n",
       "      <td>7</td>\n",
       "      <td>6</td>\n",
       "      <td>1</td>\n",
       "    </tr>\n",
       "  </tbody>\n",
       "</table>\n",
       "</div>"
      ],
      "text/plain": [
       "  Target_words ஆழி புத்தகம் மனிதர்கள் பல்கலைக்கழகம் நாமம்\n",
       "0      கல்லூரி   1        7         8           9.5     5\n",
       "1         கடல்  10        5         4             1     1\n",
       "2      அரசியல்   1        6         8             7     1\n",
       "3        பெயர்   3        1       7.5             1    10\n",
       "4       மக்கள்   3        4        10             7   7.5\n",
       "5      நபர்கள்   3        4        10             7   7.5\n",
       "6      நூல்கள்   3       10         8           8.5     2\n",
       "7        பாடல்   2        5         6             4   3.5\n",
       "8    தொழில்கள்   2        6         7             7   3.5\n",
       "9         அளவு   6        5         7             6     1"
      ]
     },
     "execution_count": 59,
     "metadata": {},
     "output_type": "execute_result"
    }
   ],
   "source": [
    "df_noun"
   ]
  },
  {
   "cell_type": "code",
   "execution_count": 60,
   "metadata": {},
   "outputs": [],
   "source": [
    "adjective_score = np.array([['மதிப்புள்ள', 7, 1, 6, 10, 6], ['மிகப்பெரிய', 1, 1, 1, 1, 1], ['தாழ்ந்த', 1,1,1,4,1], ['முன்னணி', 6, 1, 6, 6, 5], ['ஆரோக்கிய', 9, 3, 4, 3, 2], ['மிகச்சிறிய', 1, 1, 1, 1, 1], ['வெப்ப', 4, 10, 1, 1, 7], ['பழைய', 2, 1, 3, 5, 10], ['முதன்மைத்', 6, 1, 5, 7, 8], ['நிலையான', 4, 1, 10, 5, 8]])"
   ]
  },
  {
   "cell_type": "code",
   "execution_count": 61,
   "metadata": {},
   "outputs": [],
   "source": [
    "df_adjective = pd.DataFrame(adjective_score, columns = ['Target_words'] + similar_adjective)"
   ]
  },
  {
   "cell_type": "code",
   "execution_count": 62,
   "metadata": {},
   "outputs": [
    {
     "data": {
      "text/html": [
       "<div>\n",
       "<style scoped>\n",
       "    .dataframe tbody tr th:only-of-type {\n",
       "        vertical-align: middle;\n",
       "    }\n",
       "\n",
       "    .dataframe tbody tr th {\n",
       "        vertical-align: top;\n",
       "    }\n",
       "\n",
       "    .dataframe thead th {\n",
       "        text-align: right;\n",
       "    }\n",
       "</style>\n",
       "<table border=\"1\" class=\"dataframe\">\n",
       "  <thead>\n",
       "    <tr style=\"text-align: right;\">\n",
       "      <th></th>\n",
       "      <th>Target_words</th>\n",
       "      <th>நலமான</th>\n",
       "      <th>சூடு</th>\n",
       "      <th>நிரந்தரம்</th>\n",
       "      <th>மரியாதை</th>\n",
       "      <th>தொன்மை</th>\n",
       "    </tr>\n",
       "  </thead>\n",
       "  <tbody>\n",
       "    <tr>\n",
       "      <th>0</th>\n",
       "      <td>மதிப்புள்ள</td>\n",
       "      <td>7</td>\n",
       "      <td>1</td>\n",
       "      <td>6</td>\n",
       "      <td>10</td>\n",
       "      <td>6</td>\n",
       "    </tr>\n",
       "    <tr>\n",
       "      <th>1</th>\n",
       "      <td>மிகப்பெரிய</td>\n",
       "      <td>1</td>\n",
       "      <td>1</td>\n",
       "      <td>1</td>\n",
       "      <td>1</td>\n",
       "      <td>1</td>\n",
       "    </tr>\n",
       "    <tr>\n",
       "      <th>2</th>\n",
       "      <td>தாழ்ந்த</td>\n",
       "      <td>1</td>\n",
       "      <td>1</td>\n",
       "      <td>1</td>\n",
       "      <td>4</td>\n",
       "      <td>1</td>\n",
       "    </tr>\n",
       "    <tr>\n",
       "      <th>3</th>\n",
       "      <td>முன்னணி</td>\n",
       "      <td>6</td>\n",
       "      <td>1</td>\n",
       "      <td>6</td>\n",
       "      <td>6</td>\n",
       "      <td>5</td>\n",
       "    </tr>\n",
       "    <tr>\n",
       "      <th>4</th>\n",
       "      <td>ஆரோக்கிய</td>\n",
       "      <td>9</td>\n",
       "      <td>3</td>\n",
       "      <td>4</td>\n",
       "      <td>3</td>\n",
       "      <td>2</td>\n",
       "    </tr>\n",
       "    <tr>\n",
       "      <th>5</th>\n",
       "      <td>மிகச்சிறிய</td>\n",
       "      <td>1</td>\n",
       "      <td>1</td>\n",
       "      <td>1</td>\n",
       "      <td>1</td>\n",
       "      <td>1</td>\n",
       "    </tr>\n",
       "    <tr>\n",
       "      <th>6</th>\n",
       "      <td>வெப்ப</td>\n",
       "      <td>4</td>\n",
       "      <td>10</td>\n",
       "      <td>1</td>\n",
       "      <td>1</td>\n",
       "      <td>7</td>\n",
       "    </tr>\n",
       "    <tr>\n",
       "      <th>7</th>\n",
       "      <td>பழைய</td>\n",
       "      <td>2</td>\n",
       "      <td>1</td>\n",
       "      <td>3</td>\n",
       "      <td>5</td>\n",
       "      <td>10</td>\n",
       "    </tr>\n",
       "    <tr>\n",
       "      <th>8</th>\n",
       "      <td>முதன்மைத்</td>\n",
       "      <td>6</td>\n",
       "      <td>1</td>\n",
       "      <td>5</td>\n",
       "      <td>7</td>\n",
       "      <td>8</td>\n",
       "    </tr>\n",
       "    <tr>\n",
       "      <th>9</th>\n",
       "      <td>நிலையான</td>\n",
       "      <td>4</td>\n",
       "      <td>1</td>\n",
       "      <td>10</td>\n",
       "      <td>5</td>\n",
       "      <td>8</td>\n",
       "    </tr>\n",
       "  </tbody>\n",
       "</table>\n",
       "</div>"
      ],
      "text/plain": [
       "  Target_words நலமான சூடு நிரந்தரம் மரியாதை தொன்மை\n",
       "0   மதிப்புள்ள     7    1         6      10      6\n",
       "1   மிகப்பெரிய     1    1         1       1      1\n",
       "2      தாழ்ந்த     1    1         1       4      1\n",
       "3      முன்னணி     6    1         6       6      5\n",
       "4     ஆரோக்கிய     9    3         4       3      2\n",
       "5   மிகச்சிறிய     1    1         1       1      1\n",
       "6        வெப்ப     4   10         1       1      7\n",
       "7         பழைய     2    1         3       5     10\n",
       "8    முதன்மைத்     6    1         5       7      8\n",
       "9      நிலையான     4    1        10       5      8"
      ]
     },
     "execution_count": 62,
     "metadata": {},
     "output_type": "execute_result"
    }
   ],
   "source": [
    "df_adjective"
   ]
  },
  {
   "cell_type": "code",
   "execution_count": 63,
   "metadata": {},
   "outputs": [],
   "source": [
    "# grams11 contains all the ngrams of size 11\n",
    "# vocab_idx - a dictionary with of the sorted vocabulary stored in the  'word:index' format"
   ]
  },
  {
   "cell_type": "code",
   "execution_count": 64,
   "metadata": {},
   "outputs": [],
   "source": [
    "w = middle_freqency_range[:1000]"
   ]
  },
  {
   "cell_type": "code",
   "execution_count": 69,
   "metadata": {},
   "outputs": [],
   "source": [
    "voc_count=len(w)"
   ]
  },
  {
   "cell_type": "code",
   "execution_count": 70,
   "metadata": {},
   "outputs": [],
   "source": [
    "dic = dict(enumerate(w))\n",
    "vocab_idx = dict([(value, key) for key, value in dic.items()])"
   ]
  },
  {
   "cell_type": "code",
   "execution_count": 71,
   "metadata": {},
   "outputs": [],
   "source": [
    "hal_l2r = pd.DataFrame(np.zeros((voc_count,voc_count)),dtype=np.int64)\n",
    "hal_r2l = pd.DataFrame(np.zeros((voc_count,voc_count)),dtype=np.int64)\n",
    "ramp = [0, 10, 9, 8, 7, 6, 5, 4, 3, 2, 1]\n",
    "grams11 = ngrams(tamil_words, 11, pad_right=True, pad_left=True)"
   ]
  },
  {
   "cell_type": "code",
   "execution_count": 72,
   "metadata": {},
   "outputs": [],
   "source": [
    "for index, grams in enumerate(list(grams11)):\n",
    "    #print(index)\n",
    "    reversed_grams = grams[::-1]\n",
    "    #print(reversed_grams)\n",
    "    if None not in grams:\n",
    "        #print(grams)\n",
    "        for idx, gram in enumerate(grams):  # Left to right\n",
    "            #print((grams[0], grams[idx]))\n",
    "            if (gram in w) and (grams[0] in w):\n",
    "                hal_l2r[vocab_idx[grams[0]]][vocab_idx[grams[idx]]] += ramp[idx] #h5py dataset for l2r\n",
    "\n",
    "        for idx, gram in enumerate(reversed_grams):  # right to left\n",
    "            #print((reversed_grams[0], reversed_grams[idx]))\n",
    "            if (reversed_grams[idx] in w) and (reversed_grams[0] in w):\n",
    "                hal_r2l[vocab_idx[reversed_grams[0]]][vocab_idx[reversed_grams[idx]]] += ramp[idx] #h5py dataset for r2l"
   ]
  },
  {
   "cell_type": "code",
   "execution_count": 74,
   "metadata": {},
   "outputs": [],
   "source": [
    "hdf5file = pd.HDFStore('tamil_hal.hdf5', 'w') \n",
    "hdf5file['hal_l2r'] = hal_l2r\n",
    "hdf5file['hal_r2l'] = hal_r2l\n",
    "hdf5file.close()"
   ]
  },
  {
   "cell_type": "code",
   "execution_count": 76,
   "metadata": {},
   "outputs": [],
   "source": [
    "with pd.HDFStore('tamil_hal.hdf5',  mode='r') as newstore:\n",
    "    df_hal_l2r = newstore.select('hal_l2r')\n",
    "    df_hal_r2l = newstore.select('hal_r2l')"
   ]
  },
  {
   "cell_type": "code",
   "execution_count": 77,
   "metadata": {},
   "outputs": [],
   "source": [
    "df = (df_hal_l2r+df_hal_r2l)/2\n",
    "del df_hal_l2r, df_hal_r2l"
   ]
  },
  {
   "cell_type": "code",
   "execution_count": 133,
   "metadata": {},
   "outputs": [],
   "source": [
    "df.index = middle_freqency_range[:1000]"
   ]
  },
  {
   "cell_type": "code",
   "execution_count": 138,
   "metadata": {},
   "outputs": [],
   "source": [
    "# compute cosine similarity for given word vector   \n",
    "def cosinesim(row,row_data):\n",
    "    row=np.array(row)\n",
    "    row=row.reshape(1, -1)\n",
    "    return cosine_similarity(row, row_data, dense_output=False)\n",
    "   \n",
    "\n",
    "## find similar words\n",
    "def find_similar_word(context_word):\n",
    "    # get row word vector for given word\n",
    "    row_data = df.loc[context_word]\n",
    "    row_data=np.array(row_data)\n",
    "    row_data=row_data.reshape(1, -1)    \n",
    "    # iterate through vocabulary and find cosine similarity with other word vector\n",
    "    data=df.apply(cosinesim, args=(row_data,),axis=1)\n",
    "    \n",
    "    ## return top 5 matching words\n",
    "    return data.sort_values(ascending = False).head(6)"
   ]
  },
  {
   "cell_type": "code",
   "execution_count": 143,
   "metadata": {
    "collapsed": true
   },
   "outputs": [
    {
     "name": "stdout",
     "output_type": "stream",
     "text": [
      "கல்லூரி\n",
      "கல்லூரி      [[1.0000000000000002]]\n",
      "மத்திய       [[0.3251440653616454]]\n",
      "கல்வி        [[0.2897497354935256]]\n",
      "சென்னை      [[0.24068969810261803]]\n",
      "மதுரை       [[0.22857307798136953]]\n",
      "வருகிறது     [[0.1959374297822575]]\n",
      "dtype: object\n",
      "கடல்\n",
      "கடல்        [[0.9999999999999998]]\n",
      "சோடியம்      [[0.572849275445332]]\n",
      "சார்ந்த     [[0.2785058812122057]]\n",
      "மீட்டர்    [[0.26293782996655657]]\n",
      "அதிகமான    [[0.24344803112326527]]\n",
      "ஆய்வு      [[0.24321543978004137]]\n",
      "dtype: object\n",
      "அரசியல்\n",
      "அரசியல்      [[0.9999999999999999]]\n",
      "கட்சி         [[0.748199216196695]]\n",
      "இணைந்து       [[0.623400550590125]]\n",
      "இலங்கை        [[0.575588819736971]]\n",
      "தொடர்ந்து     [[0.532458848230024]]\n",
      "வருகிறது     [[0.5308898582584376]]\n",
      "dtype: object\n",
      "பெயர்\n",
      "பெயர்        [[1.0000000000000002]]\n",
      "முதலில்      [[0.5724633282729573]]\n",
      "காலத்தில்    [[0.5363079672083726]]\n",
      "இவரது        [[0.5118261740108867]]\n",
      "தொடர்ந்து    [[0.4524745044427584]]\n",
      "வருகிறது     [[0.4378120834156535]]\n",
      "dtype: object\n",
      "மக்கள்\n",
      "மக்கள்               [[1.0000000000000002]]\n",
      "கணக்கெடுப்பின்படி      [[0.91045373915033]]\n",
      "இந்திய               [[0.8575580404003043]]\n",
      "இவர்களில்            [[0.8531023236104003]]\n",
      "தொகை                 [[0.8528549707303614]]\n",
      "பெண்கள்              [[0.8023225329827948]]\n",
      "dtype: object\n",
      "நபர்கள்\n",
      "நபர்கள்                                 [[1.0]]\n",
      "துடுப்பாட்டக்காரர்கள்     [[0.709499613017121]]\n",
      "பிறப்புகள்               [[0.6775619804638183]]\n",
      "இறப்புகள்                [[0.6640320885891052]]\n",
      "அரசியல்வாதிகள்           [[0.5915270891979117]]\n",
      "வாழும்                   [[0.5884778238099266]]\n",
      "dtype: object\n",
      "நூல்கள்\n",
      "நூல்கள்          [[0.9999999999999997]]\n",
      "தமிழ்            [[0.8875549591167965]]\n",
      "நூல்              [[0.572663580594447]]\n",
      "இந்தியத்        [[0.41441483339787716]]\n",
      "இணைப்புகள்==    [[0.32809663991384064]]\n",
      "இலங்கை           [[0.3092376262124443]]\n",
      "dtype: object\n",
      "பாடல்\n",
      "பாடல்         [[0.9999999999999998]]\n",
      "இசை          [[0.32839016042761865]]\n",
      "எண்           [[0.3137206031091826]]\n",
      "ஒன்று         [[0.3116485813745386]]\n",
      "ஒன்றாகும்     [[0.2435203901469654]]\n",
      "சிவன்        [[0.23181402164474482]]\n",
      "dtype: object\n",
      "தொழில்கள்\n",
      "தொழில்கள்      [[1.0000000000000002]]\n",
      "துறைகளிலும்     [[0.872707768650728]]\n",
      "உட்பட           [[0.863845056386434]]\n",
      "சேவைத்         [[0.8634074617924322]]\n",
      "நிறைய          [[0.8272424635151365]]\n",
      "வேளாண்         [[0.7834865085024783]]\n",
      "dtype: object\n",
      "அளவு\n",
      "அளவு             [[1.0000000000000002]]\n",
      "டன்களாக           [[0.556952111464195]]\n",
      "மில்லியன்        [[0.5456334140087098]]\n",
      "டன்               [[0.544983697583803]]\n",
      "ரசாயணங்களின்      [[0.502644297020153]]\n",
      "இருந்தாலும்     [[0.48671740770338273]]\n",
      "dtype: object\n"
     ]
    }
   ],
   "source": [
    "for wrd in noun:\n",
    "    print(wrd)\n",
    "    print(find_similar_word(wrd))"
   ]
  },
  {
   "cell_type": "code",
   "execution_count": 148,
   "metadata": {
    "collapsed": true
   },
   "outputs": [
    {
     "name": "stdout",
     "output_type": "stream",
     "text": [
      "\n",
      "\n",
      "கல்லூரி\n",
      "கல்லூரி      [[1.0000000000000002]]\n",
      "மத்திய       [[0.3251440653616454]]\n",
      "கல்வி        [[0.2897497354935256]]\n",
      "சென்னை      [[0.24068969810261803]]\n",
      "மதுரை       [[0.22857307798136953]]\n",
      "வருகிறது     [[0.1959374297822575]]\n",
      "\n",
      "\n",
      "\n",
      "\n",
      "கடல்\n",
      "கடல்        [[0.9999999999999998]]\n",
      "சோடியம்      [[0.572849275445332]]\n",
      "சார்ந்த     [[0.2785058812122057]]\n",
      "மீட்டர்    [[0.26293782996655657]]\n",
      "அதிகமான    [[0.24344803112326527]]\n",
      "ஆய்வு      [[0.24321543978004137]]\n",
      "\n",
      "\n",
      "\n",
      "\n",
      "அரசியல்\n",
      "அரசியல்      [[0.9999999999999999]]\n",
      "கட்சி         [[0.748199216196695]]\n",
      "இணைந்து       [[0.623400550590125]]\n",
      "இலங்கை        [[0.575588819736971]]\n",
      "தொடர்ந்து     [[0.532458848230024]]\n",
      "வருகிறது     [[0.5308898582584376]]\n",
      "\n",
      "\n",
      "\n",
      "\n",
      "பெயர்\n",
      "பெயர்        [[1.0000000000000002]]\n",
      "முதலில்      [[0.5724633282729573]]\n",
      "காலத்தில்    [[0.5363079672083726]]\n",
      "இவரது        [[0.5118261740108867]]\n",
      "தொடர்ந்து    [[0.4524745044427584]]\n",
      "வருகிறது     [[0.4378120834156535]]\n",
      "\n",
      "\n",
      "\n",
      "\n",
      "மக்கள்\n",
      "மக்கள்               [[1.0000000000000002]]\n",
      "கணக்கெடுப்பின்படி      [[0.91045373915033]]\n",
      "இந்திய               [[0.8575580404003043]]\n",
      "இவர்களில்            [[0.8531023236104003]]\n",
      "தொகை                 [[0.8528549707303614]]\n",
      "பெண்கள்              [[0.8023225329827948]]\n",
      "\n",
      "\n",
      "\n",
      "\n",
      "நபர்கள்\n",
      "நபர்கள்                                 [[1.0]]\n",
      "துடுப்பாட்டக்காரர்கள்     [[0.709499613017121]]\n",
      "பிறப்புகள்               [[0.6775619804638183]]\n",
      "இறப்புகள்                [[0.6640320885891052]]\n",
      "அரசியல்வாதிகள்           [[0.5915270891979117]]\n",
      "வாழும்                   [[0.5884778238099266]]\n",
      "\n",
      "\n",
      "\n",
      "\n",
      "நூல்கள்\n",
      "நூல்கள்          [[0.9999999999999997]]\n",
      "தமிழ்            [[0.8875549591167965]]\n",
      "நூல்              [[0.572663580594447]]\n",
      "இந்தியத்        [[0.41441483339787716]]\n",
      "இணைப்புகள்==    [[0.32809663991384064]]\n",
      "இலங்கை           [[0.3092376262124443]]\n",
      "\n",
      "\n",
      "\n",
      "\n",
      "பாடல்\n",
      "பாடல்         [[0.9999999999999998]]\n",
      "இசை          [[0.32839016042761865]]\n",
      "எண்           [[0.3137206031091826]]\n",
      "ஒன்று         [[0.3116485813745386]]\n",
      "ஒன்றாகும்     [[0.2435203901469654]]\n",
      "சிவன்        [[0.23181402164474482]]\n",
      "\n",
      "\n",
      "\n",
      "\n",
      "தொழில்கள்\n",
      "தொழில்கள்      [[1.0000000000000002]]\n",
      "துறைகளிலும்     [[0.872707768650728]]\n",
      "உட்பட           [[0.863845056386434]]\n",
      "சேவைத்         [[0.8634074617924322]]\n",
      "நிறைய          [[0.8272424635151365]]\n",
      "வேளாண்         [[0.7834865085024783]]\n",
      "\n",
      "\n",
      "\n",
      "\n",
      "அளவு\n",
      "அளவு             [[1.0000000000000002]]\n",
      "டன்களாக           [[0.556952111464195]]\n",
      "மில்லியன்        [[0.5456334140087098]]\n",
      "டன்               [[0.544983697583803]]\n",
      "ரசாயணங்களின்      [[0.502644297020153]]\n",
      "இருந்தாலும்     [[0.48671740770338273]]\n",
      "\n",
      "\n"
     ]
    }
   ],
   "source": [
    "l = open('noun_Similar_Word.txt', \"w\", encoding='utf-8')\n",
    "for ta_word in noun:\n",
    "    line = \"\"\n",
    "    line +=\"\\n\"+\"\\n\"+ ta_word + \"\\n\"\n",
    "    simi_word=find_similar_word(ta_word)\n",
    "    line += simi_word.to_string() + \"\\n\"+\"\\n\"\n",
    "    print(line)\n",
    "    l.write(line)\n",
    "    \n",
    "l.close()"
   ]
  },
  {
   "cell_type": "code",
   "execution_count": null,
   "metadata": {},
   "outputs": [],
   "source": []
  }
 ],
 "metadata": {
  "kernelspec": {
   "display_name": "Python 3",
   "language": "python",
   "name": "python3"
  },
  "language_info": {
   "codemirror_mode": {
    "name": "ipython",
    "version": 3
   },
   "file_extension": ".py",
   "mimetype": "text/x-python",
   "name": "python",
   "nbconvert_exporter": "python",
   "pygments_lexer": "ipython3",
   "version": "3.7.1"
  }
 },
 "nbformat": 4,
 "nbformat_minor": 2
}
